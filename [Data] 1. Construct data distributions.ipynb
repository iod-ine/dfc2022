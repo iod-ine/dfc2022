{
 "cells": [
  {
   "cell_type": "code",
   "execution_count": 1,
   "id": "5e04c954-593c-492f-b9c1-f986598a4fd5",
   "metadata": {},
   "outputs": [],
   "source": [
    "import pickle\n",
    "import pathlib\n",
    "import collections\n",
    "\n",
    "import tqdm\n",
    "import rasterio\n",
    "import numpy as np\n",
    "import pandas as pd"
   ]
  },
  {
   "cell_type": "code",
   "execution_count": 2,
   "id": "06a41d37-e002-4181-8ecc-29b37a8b0e35",
   "metadata": {},
   "outputs": [],
   "source": [
    "data_dir = pathlib.Path('/home/dubrovin/Projects/Data/DFC2022/')"
   ]
  },
  {
   "cell_type": "code",
   "execution_count": 3,
   "id": "16c34188-b304-46aa-b4b6-bb6c72a83647",
   "metadata": {},
   "outputs": [],
   "source": [
    "dd = pd.read_csv('misc/training_data.csv')"
   ]
  },
  {
   "cell_type": "code",
   "execution_count": 4,
   "id": "611bd7a3-e5be-460c-ae0e-b78585907351",
   "metadata": {},
   "outputs": [],
   "source": [
    "label_class_counts = collections.defaultdict(lambda: 0)\n",
    "\n",
    "rgb_value_counts = [\n",
    "    collections.defaultdict(lambda: 0),\n",
    "    collections.defaultdict(lambda: 0),\n",
    "    collections.defaultdict(lambda: 0),\n",
    "]\n",
    "\n",
    "# bins for the elevation histogram\n",
    "elevation_bins = [-99999.0] + list(range(-500, 5001, 1))\n",
    "elevation_histogram = np.zeros(5501)"
   ]
  },
  {
   "cell_type": "code",
   "execution_count": 5,
   "id": "d42a65fb-aa81-42a9-ac69-480898cb4fda",
   "metadata": {},
   "outputs": [
    {
     "name": "stderr",
     "output_type": "stream",
     "text": [
      "100%|█████████████████████████████████████████████████| 1915/1915 [13:13<00:00,  2.41it/s]\n"
     ]
    }
   ],
   "source": [
    "for i, row in tqdm.tqdm(dd.iterrows(), total=len(dd)):\n",
    "    region, filename, labeled = row\n",
    "    subdir = 'labeled_train' if labeled == 'yes' else 'unlabeled_train'\n",
    "    \n",
    "    region_dir = data_dir / subdir / region\n",
    "    \n",
    "    tci_path = region_dir / 'BDORTHO' / filename\n",
    "    dem_path = region_dir / 'RGEALTI' / filename.replace('.tif', '_RGEALTI.tif')\n",
    "    lab_path = region_dir / 'UrbanAtlas' / filename.replace('.tif', '_UA2012.tif')\n",
    "\n",
    "    with rasterio.open(tci_path) as src:\n",
    "        tci = src.read()\n",
    "        \n",
    "    for j in range(3):\n",
    "        values, counts = np.unique(tci[j], return_counts=True)\n",
    "        for v, c in zip(values, counts):\n",
    "            rgb_value_counts[j][v] = rgb_value_counts[j][v] + c\n",
    "    \n",
    "    with rasterio.open(dem_path) as src:\n",
    "        dem = src.read()\n",
    "\n",
    "    hist, bins = np.histogram(dem, bins=elevation_bins)\n",
    "    elevation_histogram += hist\n",
    "    \n",
    "    if labeled == 'yes':\n",
    "        # calculate class counts for masks\n",
    "        with rasterio.open(lab_path) as src:\n",
    "            label = src.read()\n",
    "        \n",
    "        values, counts = np.unique(label, return_counts=True)\n",
    "        \n",
    "        for v, c in zip(values, counts):\n",
    "            label_class_counts[v] = label_class_counts[v] + c\n",
    "\n",
    "with open('misc/stat_label_class_counts.pickle', 'bw') as f:\n",
    "    pickle.dump(dict(label_class_counts), f)\n",
    "\n",
    "with open('misc/stat_rgb_value_counts.pickle', 'bw') as f:\n",
    "    pickle.dump(list(map(dict, rgb_value_counts)), f)\n",
    "\n",
    "np.save('misc/stat_elevation_histogram.npy', elevation_histogram)"
   ]
  },
  {
   "cell_type": "code",
   "execution_count": 6,
   "id": "debb0faa-83f0-4cc7-bd26-48265df07bb8",
   "metadata": {},
   "outputs": [],
   "source": [
    "with open('misc/stat_label_class_counts.pickle', 'br') as f:\n",
    "    label_class_counts = pickle.load(f)\n",
    "\n",
    "with open('misc/stat_rgb_value_counts.pickle', 'br') as f:\n",
    "    rgb_value_counts = pickle.load(f)\n",
    "\n",
    "elevation_histogram = np.load('misc/stat_elevation_histogram.npy')"
   ]
  },
  {
   "cell_type": "code",
   "execution_count": 7,
   "id": "9703c154-677e-4a22-bc25-d7bcc112c4db",
   "metadata": {},
   "outputs": [],
   "source": [
    "channels = []\n",
    "\n",
    "for i in range(3):\n",
    "    df = pd.DataFrame(\n",
    "        zip(map(float, rgb_value_counts[i].keys()), rgb_value_counts[i].values()),\n",
    "        columns=['value', 'count']\n",
    "    )\n",
    "    df['channel'] = i\n",
    "    channels.append(df)\n",
    "\n",
    "rgb_value_counts_df = pd.concat(channels)"
   ]
  },
  {
   "cell_type": "code",
   "execution_count": 8,
   "id": "6b285b83-a265-491d-a99c-de4f98256c51",
   "metadata": {},
   "outputs": [],
   "source": [
    "label_class_count_df = pd.DataFrame(\n",
    "    label_class_counts.items(),\n",
    "    columns=['class', 'count']\n",
    ")"
   ]
  },
  {
   "cell_type": "code",
   "execution_count": 9,
   "id": "fb9647a6-df3d-43bf-be4e-8a5eec08a01e",
   "metadata": {},
   "outputs": [],
   "source": [
    "elevation_histogram_df = pd.DataFrame(\n",
    "    zip(elevation_histogram, elevation_bins[1:]),\n",
    "    columns=['count', 'upper']\n",
    ")"
   ]
  },
  {
   "cell_type": "code",
   "execution_count": 10,
   "id": "d58071f1-4ec1-49c3-843f-5d20716f7ef9",
   "metadata": {},
   "outputs": [],
   "source": [
    "rgb_value_counts_df.to_csv('misc/stat_rgb_values_counts.csv', index=False)\n",
    "label_class_count_df.to_csv('misc/stat_label_class_count.csv', index=False)\n",
    "elevation_histogram_df.to_csv('misc/stat_elevation_histogram.csv', index=False)"
   ]
  }
 ],
 "metadata": {
  "kernelspec": {
   "display_name": "Python 3.9 (torch-latest)",
   "language": "python",
   "name": "torch"
  },
  "language_info": {
   "codemirror_mode": {
    "name": "ipython",
    "version": 3
   },
   "file_extension": ".py",
   "mimetype": "text/x-python",
   "name": "python",
   "nbconvert_exporter": "python",
   "pygments_lexer": "ipython3",
   "version": "3.9.9"
  }
 },
 "nbformat": 4,
 "nbformat_minor": 5
}
